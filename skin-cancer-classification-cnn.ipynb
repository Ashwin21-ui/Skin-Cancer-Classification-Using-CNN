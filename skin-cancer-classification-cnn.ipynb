{
 "cells": [
  {
   "cell_type": "code",
   "execution_count": 1,
   "id": "8128bfbf-2abd-4853-8034-4e0e53759876",
   "metadata": {},
   "outputs": [
    {
     "name": "stdout",
     "output_type": "stream",
     "text": [
      "c:\\users\\krishna\\appdata\\local\\programs\\python\\python39\\python.exe\n"
     ]
    }
   ],
   "source": [
    "import sys\n",
    "print(sys.executable)"
   ]
  },
  {
   "cell_type": "code",
   "execution_count": 5,
   "id": "0ede0141-f7a7-4025-997f-15f0187ce043",
   "metadata": {},
   "outputs": [
    {
     "name": "stdout",
     "output_type": "stream",
     "text": [
      "2.18.0\n"
     ]
    }
   ],
   "source": [
    "import tensorflow as tf\n",
    "print(tf.__version__)\n"
   ]
  },
  {
   "cell_type": "code",
   "execution_count": 2,
   "id": "d7f800ed-dae4-4bd4-865b-654eb35929fd",
   "metadata": {},
   "outputs": [
    {
     "name": "stdout",
     "output_type": "stream",
     "text": [
      "1483145226\n"
     ]
    }
   ],
   "source": [
    "import win32api\n",
    "print(win32api.GetVersion())\n"
   ]
  },
  {
   "cell_type": "code",
   "execution_count": 6,
   "id": "b1ff4ebf-9a78-4cdc-9c03-1da2b036a152",
   "metadata": {},
   "outputs": [
    {
     "name": "stdout",
     "output_type": "stream",
     "text": [
      "2.0.2\n"
     ]
    }
   ],
   "source": [
    "import numpy\n",
    "print(numpy.__version__)\n"
   ]
  },
  {
   "cell_type": "code",
   "execution_count": 4,
   "id": "02804b01-d6cd-47de-a167-363c013533f9",
   "metadata": {},
   "outputs": [
    {
     "name": "stdout",
     "output_type": "stream",
     "text": [
      "1.8.8\n"
     ]
    }
   ],
   "source": [
    "import debugpy\n",
    "print(debugpy.__version__)\n"
   ]
  },
  {
   "cell_type": "code",
   "execution_count": 8,
   "id": "117d2b51",
   "metadata": {
    "papermill": {
     "duration": 14.105307,
     "end_time": "2024-04-22T19:41:57.658011",
     "exception": false,
     "start_time": "2024-04-22T19:41:43.552704",
     "status": "completed"
    },
    "scrolled": true,
    "tags": []
   },
   "outputs": [],
   "source": [
    "import pandas as pd \n",
    "import numpy as np \n",
    "import os\n",
    "from glob import glob\n",
    "from PIL import Image\n",
    "import shutil\n",
    "from tqdm import tqdm\n",
    "import itertools\n",
    "import matplotlib.pyplot as plt\n",
    "import cv2\n",
    "import warnings\n",
    "from sklearn.preprocessing import LabelEncoder\n",
    "from sklearn.utils import resample\n",
    "from sklearn.model_selection import train_test_split\n",
    "from sklearn.metrics import accuracy_score, confusion_matrix\n",
    "from keras.utils import to_categorical\n",
    "from tensorflow.keras.applications import EfficientNetB7\n",
    "from tensorflow.keras.models import Sequential, Model\n",
    "from tensorflow.keras.layers import Dense, Dropout, Flatten, BatchNormalization, Conv2D, MaxPooling2D\n",
    "from tensorflow.keras.optimizers import Adam\n",
    "from tensorflow.keras.callbacks import EarlyStopping, ReduceLROnPlateau"
   ]
  },
  {
   "cell_type": "code",
   "execution_count": 9,
   "id": "ecfc3b14",
   "metadata": {
    "papermill": {
     "duration": 0.011903,
     "end_time": "2024-04-22T19:41:57.674163",
     "exception": false,
     "start_time": "2024-04-22T19:41:57.662260",
     "status": "completed"
    },
    "tags": []
   },
   "outputs": [],
   "source": [
    "# Suppress warnings\n",
    "warnings.filterwarnings('ignore')\n"
   ]
  },
  {
   "cell_type": "code",
   "execution_count": 10,
   "id": "fdedb1c0",
   "metadata": {
    "papermill": {
     "duration": 0.049866,
     "end_time": "2024-04-22T19:41:57.727782",
     "exception": false,
     "start_time": "2024-04-22T19:41:57.677916",
     "status": "completed"
    },
    "tags": []
   },
   "outputs": [],
   "source": [
    "# Read metadata\n",
    "skinDf = pd.read_csv(\"D:/SKIN CANCER CLASSIFICATION/HAM10000_metadata.csv\")\n",
    "# Set image size\n",
    "img_size = (64, 64)"
   ]
  },
  {
   "cell_type": "code",
   "execution_count": 11,
   "id": "ca48c145",
   "metadata": {
    "papermill": {
     "duration": 0.039798,
     "end_time": "2024-04-22T19:41:57.771811",
     "exception": false,
     "start_time": "2024-04-22T19:41:57.732013",
     "status": "completed"
    },
    "tags": []
   },
   "outputs": [],
   "source": [
    "# Encode labels\n",
    "labelEncoder = LabelEncoder()\n",
    "skinDf['label'] = labelEncoder.fit_transform(skinDf['dx'])\n",
    "\n",
    "# Resample to balance classes\n",
    "dfs_by_label_resampled = {}\n",
    "n_samples = 800\n",
    "for label in range(7):\n",
    "    df_label_resampled = resample(skinDf[skinDf['label'] == label], n_samples=n_samples, replace=True, random_state=42)\n",
    "    dfs_by_label_resampled[label] = df_label_resampled\n",
    "balanced_df = pd.concat(dfs_by_label_resampled.values()).sample(frac=1, random_state=42).reset_index(drop=True)\n"
   ]
  },
  {
   "cell_type": "code",
   "execution_count": 20,
   "id": "e467aa32-6c35-4f85-a8d4-1faea56c01d2",
   "metadata": {},
   "outputs": [
    {
     "name": "stdout",
     "output_type": "stream",
     "text": [
      "Directory found\n"
     ]
    }
   ],
   "source": [
    "import os\n",
    "\n",
    "if not os.path.exists('D:/SKIN CANCER CLASSIFICATION/images'):\n",
    "    print(\"Directory does not exist\")\n",
    "else:\n",
    "    print(\"Directory found\")\n"
   ]
  },
  {
   "cell_type": "code",
   "execution_count": 26,
   "id": "a3649e3c-aa4c-462d-a0f6-d4d6018ce9ef",
   "metadata": {},
   "outputs": [
    {
     "name": "stdout",
     "output_type": "stream",
     "text": [
      "Number of entries after removing missing files: 2793\n"
     ]
    }
   ],
   "source": [
    "# Load available image files into a set\n",
    "available_files = {os.path.splitext(os.path.basename(x))[0] for x in glob(os.path.join('D:/SKIN CANCER CLASSIFICATION/images', '*.jpg'))}\n",
    "\n",
    "# Filter out rows where 'image_id' is not in the available files\n",
    "balanced_df = balanced_df[balanced_df['image_id'].isin(available_files)].reset_index(drop=True)\n",
    "\n",
    "# Check the updated dataframe\n",
    "print(f\"Number of entries after removing missing files: {len(balanced_df)}\")\n",
    "\n",
    "\n"
   ]
  },
  {
   "cell_type": "code",
   "execution_count": 27,
   "id": "9df015a4",
   "metadata": {
    "papermill": {
     "duration": 77.776661,
     "end_time": "2024-04-22T19:43:15.552358",
     "exception": false,
     "start_time": "2024-04-22T19:41:57.775697",
     "status": "completed"
    },
    "tags": []
   },
   "outputs": [
    {
     "name": "stdout",
     "output_type": "stream",
     "text": [
      "x_train shape: (2234, 224, 224, 3)\n",
      "x_test shape: (559, 224, 224, 3)\n",
      "y_train shape: (2234, 7)\n",
      "y_test shape: (559, 7)\n"
     ]
    }
   ],
   "source": [
    "# Define the target image size\n",
    "img_size = (224, 224)  # Example size; adjust as needed\n",
    "\n",
    "# Load image paths from the provided directory\n",
    "imgPath = {\n",
    "    os.path.splitext(os.path.basename(x))[0]: x \n",
    "    for x in glob(os.path.join(r'D:\\SKIN CANCER CLASSIFICATION\\images', '*.jpg'))\n",
    "}\n",
    "\n",
    "# Function to safely load and process images\n",
    "def load_image(file_path):\n",
    "    if file_path and os.path.exists(file_path):  # Check if the file exists\n",
    "        try:\n",
    "            img = Image.open(file_path).convert(\"RGB\")  # Convert to RGB to ensure consistency\n",
    "            img_resized = img.resize(img_size)\n",
    "            return np.asarray(img_resized) / 255.0  # Normalize pixel values to range [0, 1]\n",
    "        except Exception as e:\n",
    "            print(f\"Error loading image {file_path}: {e}\")\n",
    "            return None\n",
    "    else:\n",
    "        print(f\"Image file not found: {file_path}\")\n",
    "        return None\n",
    "\n",
    "# Assuming you have a DataFrame `balanced_df` with an `image_id` column\n",
    "balanced_df['image'] = balanced_df['image_id'].map(imgPath.get).map(load_image)\n",
    "\n",
    "# Handle any missing or invalid images\n",
    "balanced_df = balanced_df.dropna(subset=['image']).reset_index(drop=True)  # Drop rows with invalid images\n",
    "\n",
    "# Convert image data and labels to arrays\n",
    "x = np.stack(balanced_df['image'].to_list())  # Stack images into a single array\n",
    "y = to_categorical(balanced_df['label'], num_classes=7)  # Convert labels to one-hot encoding\n",
    "\n",
    "# Split the data\n",
    "x_train, x_test, y_train, y_test = train_test_split(x, y, test_size=0.2, random_state=42, shuffle=True)\n",
    "\n",
    "# Verify data shapes\n",
    "print(f\"x_train shape: {x_train.shape}\")\n",
    "print(f\"x_test shape: {x_test.shape}\")\n",
    "print(f\"y_train shape: {y_train.shape}\")\n",
    "print(f\"y_test shape: {y_test.shape}\")\n"
   ]
  },
  {
   "cell_type": "code",
   "execution_count": 32,
   "id": "3bb0e8c2",
   "metadata": {
    "papermill": {
     "duration": 0.812213,
     "end_time": "2024-04-22T19:43:16.368991",
     "exception": false,
     "start_time": "2024-04-22T19:43:15.556778",
     "status": "completed"
    },
    "tags": []
   },
   "outputs": [
    {
     "name": "stdout",
     "output_type": "stream",
     "text": [
      "Epoch 1/200\n",
      "\u001b[1m280/280\u001b[0m \u001b[32m━━━━━━━━━━━━━━━━━━━━\u001b[0m\u001b[37m\u001b[0m \u001b[1m126s\u001b[0m 426ms/step - accuracy: 0.1740 - loss: 2.3042 - val_accuracy: 0.1306 - val_loss: 2.2806 - learning_rate: 1.0000e-04\n",
      "Epoch 2/200\n",
      "\u001b[1m280/280\u001b[0m \u001b[32m━━━━━━━━━━━━━━━━━━━━\u001b[0m\u001b[37m\u001b[0m \u001b[1m114s\u001b[0m 408ms/step - accuracy: 0.2046 - loss: 2.1981 - val_accuracy: 0.2165 - val_loss: 1.9265 - learning_rate: 1.0000e-04\n",
      "Epoch 3/200\n",
      "\u001b[1m280/280\u001b[0m \u001b[32m━━━━━━━━━━━━━━━━━━━━\u001b[0m\u001b[37m\u001b[0m \u001b[1m114s\u001b[0m 406ms/step - accuracy: 0.2553 - loss: 1.9837 - val_accuracy: 0.3524 - val_loss: 1.6041 - learning_rate: 1.0000e-04\n",
      "Epoch 4/200\n",
      "\u001b[1m280/280\u001b[0m \u001b[32m━━━━━━━━━━━━━━━━━━━━\u001b[0m\u001b[37m\u001b[0m \u001b[1m114s\u001b[0m 406ms/step - accuracy: 0.2648 - loss: 1.9090 - val_accuracy: 0.4401 - val_loss: 1.4971 - learning_rate: 1.0000e-04\n",
      "Epoch 5/200\n",
      "\u001b[1m280/280\u001b[0m \u001b[32m━━━━━━━━━━━━━━━━━━━━\u001b[0m\u001b[37m\u001b[0m \u001b[1m114s\u001b[0m 406ms/step - accuracy: 0.3050 - loss: 1.8287 - val_accuracy: 0.4401 - val_loss: 1.4163 - learning_rate: 1.0000e-04\n",
      "Epoch 6/200\n",
      "\u001b[1m280/280\u001b[0m \u001b[32m━━━━━━━━━━━━━━━━━━━━\u001b[0m\u001b[37m\u001b[0m \u001b[1m115s\u001b[0m 411ms/step - accuracy: 0.3236 - loss: 1.8052 - val_accuracy: 0.4723 - val_loss: 1.3562 - learning_rate: 1.0000e-04\n",
      "Epoch 7/200\n",
      "\u001b[1m280/280\u001b[0m \u001b[32m━━━━━━━━━━━━━━━━━━━━\u001b[0m\u001b[37m\u001b[0m \u001b[1m116s\u001b[0m 415ms/step - accuracy: 0.3544 - loss: 1.7295 - val_accuracy: 0.5063 - val_loss: 1.3399 - learning_rate: 1.0000e-04\n",
      "Epoch 8/200\n",
      "\u001b[1m280/280\u001b[0m \u001b[32m━━━━━━━━━━━━━━━━━━━━\u001b[0m\u001b[37m\u001b[0m \u001b[1m114s\u001b[0m 408ms/step - accuracy: 0.3141 - loss: 1.8019 - val_accuracy: 0.4705 - val_loss: 1.4653 - learning_rate: 1.0000e-04\n",
      "Epoch 9/200\n",
      "\u001b[1m280/280\u001b[0m \u001b[32m━━━━━━━━━━━━━━━━━━━━\u001b[0m\u001b[37m\u001b[0m \u001b[1m113s\u001b[0m 404ms/step - accuracy: 0.3402 - loss: 1.7181 - val_accuracy: 0.4776 - val_loss: 1.4543 - learning_rate: 1.0000e-04\n",
      "Epoch 10/200\n",
      "\u001b[1m280/280\u001b[0m \u001b[32m━━━━━━━━━━━━━━━━━━━━\u001b[0m\u001b[37m\u001b[0m \u001b[1m119s\u001b[0m 424ms/step - accuracy: 0.3280 - loss: 1.7603 - val_accuracy: 0.5277 - val_loss: 1.3651 - learning_rate: 1.0000e-04\n",
      "Epoch 11/200\n",
      "\u001b[1m280/280\u001b[0m \u001b[32m━━━━━━━━━━━━━━━━━━━━\u001b[0m\u001b[37m\u001b[0m \u001b[1m120s\u001b[0m 429ms/step - accuracy: 0.3780 - loss: 1.6477 - val_accuracy: 0.5313 - val_loss: 1.3548 - learning_rate: 2.0000e-05\n",
      "Epoch 12/200\n",
      "\u001b[1m280/280\u001b[0m \u001b[32m━━━━━━━━━━━━━━━━━━━━\u001b[0m\u001b[37m\u001b[0m \u001b[1m116s\u001b[0m 415ms/step - accuracy: 0.3662 - loss: 1.6569 - val_accuracy: 0.5063 - val_loss: 1.3396 - learning_rate: 2.0000e-05\n",
      "Epoch 13/200\n",
      "\u001b[1m280/280\u001b[0m \u001b[32m━━━━━━━━━━━━━━━━━━━━\u001b[0m\u001b[37m\u001b[0m \u001b[1m116s\u001b[0m 415ms/step - accuracy: 0.3743 - loss: 1.6315 - val_accuracy: 0.5134 - val_loss: 1.3245 - learning_rate: 2.0000e-05\n",
      "Epoch 14/200\n",
      "\u001b[1m280/280\u001b[0m \u001b[32m━━━━━━━━━━━━━━━━━━━━\u001b[0m\u001b[37m\u001b[0m \u001b[1m117s\u001b[0m 419ms/step - accuracy: 0.3950 - loss: 1.5911 - val_accuracy: 0.5277 - val_loss: 1.3086 - learning_rate: 2.0000e-05\n",
      "Epoch 15/200\n",
      "\u001b[1m280/280\u001b[0m \u001b[32m━━━━━━━━━━━━━━━━━━━━\u001b[0m\u001b[37m\u001b[0m \u001b[1m114s\u001b[0m 406ms/step - accuracy: 0.4208 - loss: 1.5611 - val_accuracy: 0.5349 - val_loss: 1.2860 - learning_rate: 2.0000e-05\n",
      "Epoch 16/200\n",
      "\u001b[1m280/280\u001b[0m \u001b[32m━━━━━━━━━━━━━━━━━━━━\u001b[0m\u001b[37m\u001b[0m \u001b[1m114s\u001b[0m 406ms/step - accuracy: 0.4260 - loss: 1.5401 - val_accuracy: 0.5653 - val_loss: 1.2620 - learning_rate: 2.0000e-05\n",
      "Epoch 17/200\n",
      "\u001b[1m280/280\u001b[0m \u001b[32m━━━━━━━━━━━━━━━━━━━━\u001b[0m\u001b[37m\u001b[0m \u001b[1m114s\u001b[0m 406ms/step - accuracy: 0.4183 - loss: 1.5361 - val_accuracy: 0.5832 - val_loss: 1.2440 - learning_rate: 2.0000e-05\n",
      "Epoch 18/200\n",
      "\u001b[1m280/280\u001b[0m \u001b[32m━━━━━━━━━━━━━━━━━━━━\u001b[0m\u001b[37m\u001b[0m \u001b[1m114s\u001b[0m 407ms/step - accuracy: 0.4080 - loss: 1.5529 - val_accuracy: 0.5832 - val_loss: 1.2375 - learning_rate: 2.0000e-05\n",
      "Epoch 19/200\n",
      "\u001b[1m280/280\u001b[0m \u001b[32m━━━━━━━━━━━━━━━━━━━━\u001b[0m\u001b[37m\u001b[0m \u001b[1m114s\u001b[0m 407ms/step - accuracy: 0.4452 - loss: 1.4794 - val_accuracy: 0.5868 - val_loss: 1.2080 - learning_rate: 2.0000e-05\n",
      "Epoch 20/200\n",
      "\u001b[1m280/280\u001b[0m \u001b[32m━━━━━━━━━━━━━━━━━━━━\u001b[0m\u001b[37m\u001b[0m \u001b[1m114s\u001b[0m 407ms/step - accuracy: 0.4426 - loss: 1.4629 - val_accuracy: 0.5975 - val_loss: 1.2037 - learning_rate: 2.0000e-05\n",
      "Epoch 21/200\n",
      "\u001b[1m280/280\u001b[0m \u001b[32m━━━━━━━━━━━━━━━━━━━━\u001b[0m\u001b[37m\u001b[0m \u001b[1m115s\u001b[0m 410ms/step - accuracy: 0.4206 - loss: 1.5347 - val_accuracy: 0.6064 - val_loss: 1.1886 - learning_rate: 2.0000e-05\n",
      "Epoch 22/200\n",
      "\u001b[1m280/280\u001b[0m \u001b[32m━━━━━━━━━━━━━━━━━━━━\u001b[0m\u001b[37m\u001b[0m \u001b[1m115s\u001b[0m 409ms/step - accuracy: 0.4470 - loss: 1.4647 - val_accuracy: 0.6190 - val_loss: 1.1759 - learning_rate: 2.0000e-05\n",
      "Epoch 23/200\n",
      "\u001b[1m280/280\u001b[0m \u001b[32m━━━━━━━━━━━━━━━━━━━━\u001b[0m\u001b[37m\u001b[0m \u001b[1m114s\u001b[0m 406ms/step - accuracy: 0.4728 - loss: 1.4445 - val_accuracy: 0.6029 - val_loss: 1.1571 - learning_rate: 2.0000e-05\n",
      "Epoch 24/200\n",
      "\u001b[1m280/280\u001b[0m \u001b[32m━━━━━━━━━━━━━━━━━━━━\u001b[0m\u001b[37m\u001b[0m \u001b[1m114s\u001b[0m 407ms/step - accuracy: 0.4674 - loss: 1.4339 - val_accuracy: 0.6118 - val_loss: 1.1544 - learning_rate: 2.0000e-05\n",
      "Epoch 25/200\n",
      "\u001b[1m280/280\u001b[0m \u001b[32m━━━━━━━━━━━━━━━━━━━━\u001b[0m\u001b[37m\u001b[0m \u001b[1m114s\u001b[0m 407ms/step - accuracy: 0.4700 - loss: 1.4033 - val_accuracy: 0.6118 - val_loss: 1.1380 - learning_rate: 2.0000e-05\n",
      "Epoch 26/200\n",
      "\u001b[1m280/280\u001b[0m \u001b[32m━━━━━━━━━━━━━━━━━━━━\u001b[0m\u001b[37m\u001b[0m \u001b[1m114s\u001b[0m 406ms/step - accuracy: 0.4748 - loss: 1.3954 - val_accuracy: 0.6261 - val_loss: 1.1471 - learning_rate: 2.0000e-05\n",
      "Epoch 27/200\n",
      "\u001b[1m280/280\u001b[0m \u001b[32m━━━━━━━━━━━━━━━━━━━━\u001b[0m\u001b[37m\u001b[0m \u001b[1m114s\u001b[0m 407ms/step - accuracy: 0.4862 - loss: 1.3820 - val_accuracy: 0.6404 - val_loss: 1.0904 - learning_rate: 2.0000e-05\n",
      "Epoch 28/200\n",
      "\u001b[1m280/280\u001b[0m \u001b[32m━━━━━━━━━━━━━━━━━━━━\u001b[0m\u001b[37m\u001b[0m \u001b[1m114s\u001b[0m 406ms/step - accuracy: 0.5033 - loss: 1.3521 - val_accuracy: 0.6494 - val_loss: 1.0697 - learning_rate: 2.0000e-05\n",
      "Epoch 29/200\n",
      "\u001b[1m280/280\u001b[0m \u001b[32m━━━━━━━━━━━━━━━━━━━━\u001b[0m\u001b[37m\u001b[0m \u001b[1m114s\u001b[0m 406ms/step - accuracy: 0.4995 - loss: 1.3583 - val_accuracy: 0.6673 - val_loss: 1.0442 - learning_rate: 2.0000e-05\n",
      "Epoch 30/200\n",
      "\u001b[1m280/280\u001b[0m \u001b[32m━━━━━━━━━━━━━━━━━━━━\u001b[0m\u001b[37m\u001b[0m \u001b[1m116s\u001b[0m 415ms/step - accuracy: 0.5219 - loss: 1.3392 - val_accuracy: 0.6798 - val_loss: 1.0476 - learning_rate: 2.0000e-05\n",
      "Epoch 31/200\n",
      "\u001b[1m280/280\u001b[0m \u001b[32m━━━━━━━━━━━━━━━━━━━━\u001b[0m\u001b[37m\u001b[0m \u001b[1m114s\u001b[0m 407ms/step - accuracy: 0.5158 - loss: 1.3161 - val_accuracy: 0.6780 - val_loss: 1.0344 - learning_rate: 2.0000e-05\n",
      "Epoch 32/200\n",
      "\u001b[1m280/280\u001b[0m \u001b[32m━━━━━━━━━━━━━━━━━━━━\u001b[0m\u001b[37m\u001b[0m \u001b[1m114s\u001b[0m 407ms/step - accuracy: 0.5391 - loss: 1.2566 - val_accuracy: 0.6744 - val_loss: 1.0409 - learning_rate: 2.0000e-05\n",
      "Epoch 33/200\n",
      "\u001b[1m280/280\u001b[0m \u001b[32m━━━━━━━━━━━━━━━━━━━━\u001b[0m\u001b[37m\u001b[0m \u001b[1m114s\u001b[0m 406ms/step - accuracy: 0.5311 - loss: 1.2728 - val_accuracy: 0.6995 - val_loss: 0.9969 - learning_rate: 2.0000e-05\n",
      "Epoch 34/200\n",
      "\u001b[1m280/280\u001b[0m \u001b[32m━━━━━━━━━━━━━━━━━━━━\u001b[0m\u001b[37m\u001b[0m \u001b[1m114s\u001b[0m 406ms/step - accuracy: 0.5393 - loss: 1.2542 - val_accuracy: 0.7048 - val_loss: 0.9694 - learning_rate: 2.0000e-05\n",
      "Epoch 35/200\n",
      "\u001b[1m280/280\u001b[0m \u001b[32m━━━━━━━━━━━━━━━━━━━━\u001b[0m\u001b[37m\u001b[0m \u001b[1m114s\u001b[0m 406ms/step - accuracy: 0.5630 - loss: 1.2244 - val_accuracy: 0.7156 - val_loss: 0.9518 - learning_rate: 2.0000e-05\n",
      "Epoch 36/200\n",
      "\u001b[1m280/280\u001b[0m \u001b[32m━━━━━━━━━━━━━━━━━━━━\u001b[0m\u001b[37m\u001b[0m \u001b[1m114s\u001b[0m 409ms/step - accuracy: 0.5640 - loss: 1.2044 - val_accuracy: 0.7048 - val_loss: 0.9619 - learning_rate: 2.0000e-05\n",
      "Epoch 37/200\n",
      "\u001b[1m280/280\u001b[0m \u001b[32m━━━━━━━━━━━━━━━━━━━━\u001b[0m\u001b[37m\u001b[0m \u001b[1m114s\u001b[0m 406ms/step - accuracy: 0.5789 - loss: 1.1582 - val_accuracy: 0.7281 - val_loss: 0.9210 - learning_rate: 2.0000e-05\n",
      "Epoch 38/200\n",
      "\u001b[1m280/280\u001b[0m \u001b[32m━━━━━━━━━━━━━━━━━━━━\u001b[0m\u001b[37m\u001b[0m \u001b[1m115s\u001b[0m 409ms/step - accuracy: 0.5920 - loss: 1.1878 - val_accuracy: 0.7227 - val_loss: 0.9249 - learning_rate: 2.0000e-05\n",
      "Epoch 39/200\n",
      "\u001b[1m280/280\u001b[0m \u001b[32m━━━━━━━━━━━━━━━━━━━━\u001b[0m\u001b[37m\u001b[0m \u001b[1m114s\u001b[0m 407ms/step - accuracy: 0.5806 - loss: 1.1948 - val_accuracy: 0.7191 - val_loss: 0.9129 - learning_rate: 2.0000e-05\n",
      "Epoch 40/200\n",
      "\u001b[1m280/280\u001b[0m \u001b[32m━━━━━━━━━━━━━━━━━━━━\u001b[0m\u001b[37m\u001b[0m \u001b[1m113s\u001b[0m 405ms/step - accuracy: 0.5900 - loss: 1.1764 - val_accuracy: 0.7424 - val_loss: 0.8976 - learning_rate: 2.0000e-05\n",
      "Epoch 41/200\n",
      "\u001b[1m280/280\u001b[0m \u001b[32m━━━━━━━━━━━━━━━━━━━━\u001b[0m\u001b[37m\u001b[0m \u001b[1m114s\u001b[0m 407ms/step - accuracy: 0.6279 - loss: 1.1010 - val_accuracy: 0.7478 - val_loss: 0.8745 - learning_rate: 2.0000e-05\n",
      "Epoch 42/200\n",
      "\u001b[1m280/280\u001b[0m \u001b[32m━━━━━━━━━━━━━━━━━━━━\u001b[0m\u001b[37m\u001b[0m \u001b[1m120s\u001b[0m 429ms/step - accuracy: 0.6335 - loss: 1.0952 - val_accuracy: 0.7317 - val_loss: 0.8644 - learning_rate: 2.0000e-05\n",
      "Epoch 43/200\n",
      "\u001b[1m280/280\u001b[0m \u001b[32m━━━━━━━━━━━━━━━━━━━━\u001b[0m\u001b[37m\u001b[0m \u001b[1m118s\u001b[0m 421ms/step - accuracy: 0.6090 - loss: 1.0895 - val_accuracy: 0.7460 - val_loss: 0.8578 - learning_rate: 2.0000e-05\n",
      "Epoch 44/200\n",
      "\u001b[1m280/280\u001b[0m \u001b[32m━━━━━━━━━━━━━━━━━━━━\u001b[0m\u001b[37m\u001b[0m \u001b[1m121s\u001b[0m 431ms/step - accuracy: 0.6391 - loss: 1.0680 - val_accuracy: 0.7496 - val_loss: 0.8345 - learning_rate: 2.0000e-05\n",
      "Epoch 45/200\n",
      "\u001b[1m280/280\u001b[0m \u001b[32m━━━━━━━━━━━━━━━━━━━━\u001b[0m\u001b[37m\u001b[0m \u001b[1m17671s\u001b[0m 63s/step - accuracy: 0.6490 - loss: 1.0356 - val_accuracy: 0.7657 - val_loss: 0.8132 - learning_rate: 2.0000e-05\n",
      "Epoch 46/200\n",
      "\u001b[1m280/280\u001b[0m \u001b[32m━━━━━━━━━━━━━━━━━━━━\u001b[0m\u001b[37m\u001b[0m \u001b[1m123s\u001b[0m 439ms/step - accuracy: 0.6449 - loss: 1.0384 - val_accuracy: 0.7603 - val_loss: 0.8147 - learning_rate: 2.0000e-05\n",
      "Epoch 47/200\n",
      "\u001b[1m280/280\u001b[0m \u001b[32m━━━━━━━━━━━━━━━━━━━━\u001b[0m\u001b[37m\u001b[0m \u001b[1m122s\u001b[0m 434ms/step - accuracy: 0.6717 - loss: 0.9523 - val_accuracy: 0.7835 - val_loss: 0.7866 - learning_rate: 2.0000e-05\n",
      "Epoch 48/200\n",
      "\u001b[1m280/280\u001b[0m \u001b[32m━━━━━━━━━━━━━━━━━━━━\u001b[0m\u001b[37m\u001b[0m \u001b[1m122s\u001b[0m 436ms/step - accuracy: 0.6882 - loss: 0.9255 - val_accuracy: 0.7979 - val_loss: 0.7679 - learning_rate: 2.0000e-05\n",
      "Epoch 49/200\n",
      "\u001b[1m280/280\u001b[0m \u001b[32m━━━━━━━━━━━━━━━━━━━━\u001b[0m\u001b[37m\u001b[0m \u001b[1m122s\u001b[0m 434ms/step - accuracy: 0.6913 - loss: 0.9397 - val_accuracy: 0.7943 - val_loss: 0.7349 - learning_rate: 2.0000e-05\n",
      "Epoch 50/200\n",
      "\u001b[1m280/280\u001b[0m \u001b[32m━━━━━━━━━━━━━━━━━━━━\u001b[0m\u001b[37m\u001b[0m \u001b[1m122s\u001b[0m 437ms/step - accuracy: 0.6894 - loss: 0.9644 - val_accuracy: 0.7871 - val_loss: 0.7424 - learning_rate: 2.0000e-05\n",
      "Epoch 51/200\n",
      "\u001b[1m280/280\u001b[0m \u001b[32m━━━━━━━━━━━━━━━━━━━━\u001b[0m\u001b[37m\u001b[0m \u001b[1m123s\u001b[0m 437ms/step - accuracy: 0.7158 - loss: 0.8967 - val_accuracy: 0.7818 - val_loss: 0.7417 - learning_rate: 2.0000e-05\n",
      "Epoch 52/200\n",
      "\u001b[1m280/280\u001b[0m \u001b[32m━━━━━━━━━━━━━━━━━━━━\u001b[0m\u001b[37m\u001b[0m \u001b[1m123s\u001b[0m 439ms/step - accuracy: 0.7195 - loss: 0.8714 - val_accuracy: 0.7925 - val_loss: 0.7281 - learning_rate: 2.0000e-05\n",
      "Epoch 53/200\n",
      "\u001b[1m280/280\u001b[0m \u001b[32m━━━━━━━━━━━━━━━━━━━━\u001b[0m\u001b[37m\u001b[0m \u001b[1m121s\u001b[0m 433ms/step - accuracy: 0.6983 - loss: 0.9213 - val_accuracy: 0.8050 - val_loss: 0.7040 - learning_rate: 2.0000e-05\n",
      "Epoch 54/200\n",
      "\u001b[1m280/280\u001b[0m \u001b[32m━━━━━━━━━━━━━━━━━━━━\u001b[0m\u001b[37m\u001b[0m \u001b[1m121s\u001b[0m 433ms/step - accuracy: 0.7152 - loss: 0.8826 - val_accuracy: 0.7943 - val_loss: 0.7130 - learning_rate: 2.0000e-05\n",
      "Epoch 55/200\n",
      "\u001b[1m280/280\u001b[0m \u001b[32m━━━━━━━━━━━━━━━━━━━━\u001b[0m\u001b[37m\u001b[0m \u001b[1m121s\u001b[0m 433ms/step - accuracy: 0.6979 - loss: 0.8860 - val_accuracy: 0.8140 - val_loss: 0.6919 - learning_rate: 2.0000e-05\n",
      "Epoch 56/200\n",
      "\u001b[1m280/280\u001b[0m \u001b[32m━━━━━━━━━━━━━━━━━━━━\u001b[0m\u001b[37m\u001b[0m \u001b[1m121s\u001b[0m 433ms/step - accuracy: 0.7386 - loss: 0.8205 - val_accuracy: 0.8175 - val_loss: 0.6741 - learning_rate: 2.0000e-05\n",
      "Epoch 57/200\n",
      "\u001b[1m280/280\u001b[0m \u001b[32m━━━━━━━━━━━━━━━━━━━━\u001b[0m\u001b[37m\u001b[0m \u001b[1m122s\u001b[0m 435ms/step - accuracy: 0.7393 - loss: 0.8147 - val_accuracy: 0.8229 - val_loss: 0.6401 - learning_rate: 2.0000e-05\n",
      "Epoch 58/200\n",
      "\u001b[1m280/280\u001b[0m \u001b[32m━━━━━━━━━━━━━━━━━━━━\u001b[0m\u001b[37m\u001b[0m \u001b[1m122s\u001b[0m 434ms/step - accuracy: 0.7353 - loss: 0.8122 - val_accuracy: 0.8175 - val_loss: 0.6548 - learning_rate: 2.0000e-05\n",
      "Epoch 59/200\n",
      "\u001b[1m280/280\u001b[0m \u001b[32m━━━━━━━━━━━━━━━━━━━━\u001b[0m\u001b[37m\u001b[0m \u001b[1m122s\u001b[0m 437ms/step - accuracy: 0.7524 - loss: 0.7736 - val_accuracy: 0.8247 - val_loss: 0.6342 - learning_rate: 2.0000e-05\n",
      "Epoch 60/200\n",
      "\u001b[1m280/280\u001b[0m \u001b[32m━━━━━━━━━━━━━━━━━━━━\u001b[0m\u001b[37m\u001b[0m \u001b[1m455s\u001b[0m 2s/step - accuracy: 0.7858 - loss: 0.7132 - val_accuracy: 0.8211 - val_loss: 0.6304 - learning_rate: 2.0000e-05\n",
      "Epoch 61/200\n",
      "\u001b[1m280/280\u001b[0m \u001b[32m━━━━━━━━━━━━━━━━━━━━\u001b[0m\u001b[37m\u001b[0m \u001b[1m122s\u001b[0m 437ms/step - accuracy: 0.7710 - loss: 0.7337 - val_accuracy: 0.8301 - val_loss: 0.6143 - learning_rate: 2.0000e-05\n",
      "Epoch 62/200\n",
      "\u001b[1m280/280\u001b[0m \u001b[32m━━━━━━━━━━━━━━━━━━━━\u001b[0m\u001b[37m\u001b[0m \u001b[1m122s\u001b[0m 435ms/step - accuracy: 0.7527 - loss: 0.7720 - val_accuracy: 0.8390 - val_loss: 0.6073 - learning_rate: 2.0000e-05\n",
      "Epoch 63/200\n",
      "\u001b[1m280/280\u001b[0m \u001b[32m━━━━━━━━━━━━━━━━━━━━\u001b[0m\u001b[37m\u001b[0m \u001b[1m122s\u001b[0m 436ms/step - accuracy: 0.7787 - loss: 0.7154 - val_accuracy: 0.8372 - val_loss: 0.5928 - learning_rate: 2.0000e-05\n",
      "Epoch 64/200\n",
      "\u001b[1m280/280\u001b[0m \u001b[32m━━━━━━━━━━━━━━━━━━━━\u001b[0m\u001b[37m\u001b[0m \u001b[1m122s\u001b[0m 434ms/step - accuracy: 0.7716 - loss: 0.7270 - val_accuracy: 0.8426 - val_loss: 0.5786 - learning_rate: 2.0000e-05\n",
      "Epoch 65/200\n",
      "\u001b[1m280/280\u001b[0m \u001b[32m━━━━━━━━━━━━━━━━━━━━\u001b[0m\u001b[37m\u001b[0m \u001b[1m121s\u001b[0m 431ms/step - accuracy: 0.7963 - loss: 0.6708 - val_accuracy: 0.8354 - val_loss: 0.5908 - learning_rate: 2.0000e-05\n",
      "Epoch 66/200\n",
      "\u001b[1m280/280\u001b[0m \u001b[32m━━━━━━━━━━━━━━━━━━━━\u001b[0m\u001b[37m\u001b[0m \u001b[1m2794s\u001b[0m 10s/step - accuracy: 0.7920 - loss: 0.6839 - val_accuracy: 0.8336 - val_loss: 0.5726 - learning_rate: 2.0000e-05\n",
      "Epoch 67/200\n",
      "\u001b[1m280/280\u001b[0m \u001b[32m━━━━━━━━━━━━━━━━━━━━\u001b[0m\u001b[37m\u001b[0m \u001b[1m122s\u001b[0m 436ms/step - accuracy: 0.8043 - loss: 0.6565 - val_accuracy: 0.8462 - val_loss: 0.5516 - learning_rate: 2.0000e-05\n",
      "Epoch 68/200\n",
      "\u001b[1m280/280\u001b[0m \u001b[32m━━━━━━━━━━━━━━━━━━━━\u001b[0m\u001b[37m\u001b[0m \u001b[1m126s\u001b[0m 450ms/step - accuracy: 0.7945 - loss: 0.6911 - val_accuracy: 0.8408 - val_loss: 0.5547 - learning_rate: 2.0000e-05\n",
      "Epoch 69/200\n",
      "\u001b[1m280/280\u001b[0m \u001b[32m━━━━━━━━━━━━━━━━━━━━\u001b[0m\u001b[37m\u001b[0m \u001b[1m124s\u001b[0m 444ms/step - accuracy: 0.8165 - loss: 0.6344 - val_accuracy: 0.8462 - val_loss: 0.5313 - learning_rate: 2.0000e-05\n",
      "Epoch 70/200\n",
      "\u001b[1m280/280\u001b[0m \u001b[32m━━━━━━━━━━━━━━━━━━━━\u001b[0m\u001b[37m\u001b[0m \u001b[1m125s\u001b[0m 445ms/step - accuracy: 0.8423 - loss: 0.5844 - val_accuracy: 0.8426 - val_loss: 0.5462 - learning_rate: 2.0000e-05\n",
      "Epoch 71/200\n",
      "\u001b[1m280/280\u001b[0m \u001b[32m━━━━━━━━━━━━━━━━━━━━\u001b[0m\u001b[37m\u001b[0m \u001b[1m124s\u001b[0m 443ms/step - accuracy: 0.8290 - loss: 0.5515 - val_accuracy: 0.8390 - val_loss: 0.5362 - learning_rate: 2.0000e-05\n",
      "Epoch 72/200\n",
      "\u001b[1m280/280\u001b[0m \u001b[32m━━━━━━━━━━━━━━━━━━━━\u001b[0m\u001b[37m\u001b[0m \u001b[1m125s\u001b[0m 446ms/step - accuracy: 0.8217 - loss: 0.5912 - val_accuracy: 0.8444 - val_loss: 0.5297 - learning_rate: 2.0000e-05\n",
      "Epoch 73/200\n",
      "\u001b[1m280/280\u001b[0m \u001b[32m━━━━━━━━━━━━━━━━━━━━\u001b[0m\u001b[37m\u001b[0m \u001b[1m123s\u001b[0m 438ms/step - accuracy: 0.8463 - loss: 0.5480 - val_accuracy: 0.8551 - val_loss: 0.5116 - learning_rate: 2.0000e-05\n",
      "Epoch 74/200\n",
      "\u001b[1m280/280\u001b[0m \u001b[32m━━━━━━━━━━━━━━━━━━━━\u001b[0m\u001b[37m\u001b[0m \u001b[1m445s\u001b[0m 2s/step - accuracy: 0.8372 - loss: 0.5543 - val_accuracy: 0.8533 - val_loss: 0.4969 - learning_rate: 2.0000e-05\n",
      "Epoch 75/200\n",
      "\u001b[1m280/280\u001b[0m \u001b[32m━━━━━━━━━━━━━━━━━━━━\u001b[0m\u001b[37m\u001b[0m \u001b[1m121s\u001b[0m 431ms/step - accuracy: 0.8325 - loss: 0.5578 - val_accuracy: 0.8569 - val_loss: 0.4966 - learning_rate: 2.0000e-05\n",
      "Epoch 76/200\n",
      "\u001b[1m280/280\u001b[0m \u001b[32m━━━━━━━━━━━━━━━━━━━━\u001b[0m\u001b[37m\u001b[0m \u001b[1m121s\u001b[0m 431ms/step - accuracy: 0.8421 - loss: 0.5327 - val_accuracy: 0.8640 - val_loss: 0.4790 - learning_rate: 2.0000e-05\n",
      "Epoch 77/200\n",
      "\u001b[1m280/280\u001b[0m \u001b[32m━━━━━━━━━━━━━━━━━━━━\u001b[0m\u001b[37m\u001b[0m \u001b[1m154s\u001b[0m 551ms/step - accuracy: 0.8615 - loss: 0.4956 - val_accuracy: 0.8551 - val_loss: 0.5117 - learning_rate: 2.0000e-05\n",
      "Epoch 78/200\n",
      "\u001b[1m280/280\u001b[0m \u001b[32m━━━━━━━━━━━━━━━━━━━━\u001b[0m\u001b[37m\u001b[0m \u001b[1m121s\u001b[0m 431ms/step - accuracy: 0.8422 - loss: 0.5079 - val_accuracy: 0.8551 - val_loss: 0.4994 - learning_rate: 2.0000e-05\n",
      "Epoch 79/200\n",
      "\u001b[1m280/280\u001b[0m \u001b[32m━━━━━━━━━━━━━━━━━━━━\u001b[0m\u001b[37m\u001b[0m \u001b[1m121s\u001b[0m 431ms/step - accuracy: 0.8854 - loss: 0.4542 - val_accuracy: 0.8551 - val_loss: 0.4871 - learning_rate: 2.0000e-05\n",
      "Epoch 80/200\n",
      "\u001b[1m280/280\u001b[0m \u001b[32m━━━━━━━━━━━━━━━━━━━━\u001b[0m\u001b[37m\u001b[0m \u001b[1m224s\u001b[0m 800ms/step - accuracy: 0.8710 - loss: 0.4632 - val_accuracy: 0.8587 - val_loss: 0.4781 - learning_rate: 1.0000e-05\n",
      "Epoch 81/200\n",
      "\u001b[1m280/280\u001b[0m \u001b[32m━━━━━━━━━━━━━━━━━━━━\u001b[0m\u001b[37m\u001b[0m \u001b[1m122s\u001b[0m 436ms/step - accuracy: 0.8660 - loss: 0.4736 - val_accuracy: 0.8587 - val_loss: 0.4711 - learning_rate: 1.0000e-05\n",
      "Epoch 82/200\n",
      "\u001b[1m280/280\u001b[0m \u001b[32m━━━━━━━━━━━━━━━━━━━━\u001b[0m\u001b[37m\u001b[0m \u001b[1m118s\u001b[0m 423ms/step - accuracy: 0.8646 - loss: 0.4601 - val_accuracy: 0.8569 - val_loss: 0.4738 - learning_rate: 1.0000e-05\n",
      "Epoch 83/200\n",
      "\u001b[1m280/280\u001b[0m \u001b[32m━━━━━━━━━━━━━━━━━━━━\u001b[0m\u001b[37m\u001b[0m \u001b[1m115s\u001b[0m 409ms/step - accuracy: 0.8739 - loss: 0.4634 - val_accuracy: 0.8551 - val_loss: 0.4726 - learning_rate: 1.0000e-05\n",
      "Epoch 84/200\n",
      "\u001b[1m280/280\u001b[0m \u001b[32m━━━━━━━━━━━━━━━━━━━━\u001b[0m\u001b[37m\u001b[0m \u001b[1m117s\u001b[0m 416ms/step - accuracy: 0.8795 - loss: 0.4337 - val_accuracy: 0.8605 - val_loss: 0.4668 - learning_rate: 1.0000e-05\n",
      "Epoch 85/200\n",
      "\u001b[1m280/280\u001b[0m \u001b[32m━━━━━━━━━━━━━━━━━━━━\u001b[0m\u001b[37m\u001b[0m \u001b[1m256s\u001b[0m 916ms/step - accuracy: 0.8887 - loss: 0.4307 - val_accuracy: 0.8676 - val_loss: 0.4680 - learning_rate: 1.0000e-05\n",
      "Epoch 87/200\n",
      "\u001b[1m280/280\u001b[0m \u001b[32m━━━━━━━━━━━━━━━━━━━━\u001b[0m\u001b[37m\u001b[0m \u001b[1m115s\u001b[0m 412ms/step - accuracy: 0.8732 - loss: 0.4463 - val_accuracy: 0.8623 - val_loss: 0.4718 - learning_rate: 1.0000e-05\n",
      "Epoch 88/200\n",
      "\u001b[1m280/280\u001b[0m \u001b[32m━━━━━━━━━━━━━━━━━━━━\u001b[0m\u001b[37m\u001b[0m \u001b[1m115s\u001b[0m 410ms/step - accuracy: 0.8875 - loss: 0.4450 - val_accuracy: 0.8587 - val_loss: 0.4643 - learning_rate: 1.0000e-05\n",
      "Epoch 89/200\n",
      "\u001b[1m280/280\u001b[0m \u001b[32m━━━━━━━━━━━━━━━━━━━━\u001b[0m\u001b[37m\u001b[0m \u001b[1m115s\u001b[0m 412ms/step - accuracy: 0.9005 - loss: 0.3715 - val_accuracy: 0.8605 - val_loss: 0.4518 - learning_rate: 1.0000e-05\n",
      "Epoch 90/200\n",
      "\u001b[1m280/280\u001b[0m \u001b[32m━━━━━━━━━━━━━━━━━━━━\u001b[0m\u001b[37m\u001b[0m \u001b[1m115s\u001b[0m 409ms/step - accuracy: 0.9183 - loss: 0.3540 - val_accuracy: 0.8640 - val_loss: 0.4584 - learning_rate: 1.0000e-05\n",
      "Epoch 91/200\n",
      "\u001b[1m280/280\u001b[0m \u001b[32m━━━━━━━━━━━━━━━━━━━━\u001b[0m\u001b[37m\u001b[0m \u001b[1m696s\u001b[0m 2s/step - accuracy: 0.9155 - loss: 0.3808 - val_accuracy: 0.8676 - val_loss: 0.4552 - learning_rate: 1.0000e-05\n",
      "Epoch 92/200\n",
      "\u001b[1m280/280\u001b[0m \u001b[32m━━━━━━━━━━━━━━━━━━━━\u001b[0m\u001b[37m\u001b[0m \u001b[1m270s\u001b[0m 966ms/step - accuracy: 0.8919 - loss: 0.3919 - val_accuracy: 0.8658 - val_loss: 0.4573 - learning_rate: 1.0000e-05\n",
      "Epoch 93/200\n",
      "\u001b[1m280/280\u001b[0m \u001b[32m━━━━━━━━━━━━━━━━━━━━\u001b[0m\u001b[37m\u001b[0m \u001b[1m117s\u001b[0m 416ms/step - accuracy: 0.9116 - loss: 0.3745 - val_accuracy: 0.8658 - val_loss: 0.4586 - learning_rate: 1.0000e-05\n",
      "Epoch 94/200\n",
      "\u001b[1m280/280\u001b[0m \u001b[32m━━━━━━━━━━━━━━━━━━━━\u001b[0m\u001b[37m\u001b[0m \u001b[1m316s\u001b[0m 1s/step - accuracy: 0.8861 - loss: 0.4230 - val_accuracy: 0.8640 - val_loss: 0.4643 - learning_rate: 1.0000e-05\n"
     ]
    }
   ],
   "source": [
    "# Define model\n",
    "model = Sequential([\n",
    "    Conv2D(32, (3, 3), activation='relu', padding='same', kernel_initializer='he_normal', input_shape=(224, 224, 3)),  # Update input shape\n",
    "    MaxPooling2D(),\n",
    "    BatchNormalization(),\n",
    "    \n",
    "    Conv2D(64, (3, 3), activation='relu', padding='same', kernel_initializer='he_normal'),\n",
    "    Conv2D(64, (3, 3), activation='relu', padding='same', kernel_initializer='he_normal'),\n",
    "    MaxPooling2D(),\n",
    "    BatchNormalization(),\n",
    "    \n",
    "    Conv2D(128, (3, 3), activation='relu', padding='same', kernel_initializer='he_normal'),\n",
    "    Conv2D(128, (3, 3), activation='relu', padding='same', kernel_initializer='he_normal'),\n",
    "    MaxPooling2D(),\n",
    "    BatchNormalization(),\n",
    "    \n",
    "    Flatten(),\n",
    "    Dropout(rate=0.5),\n",
    "    Dense(256, activation='relu', kernel_initializer='he_normal'),\n",
    "    Dropout(rate=0.5),\n",
    "    Dense(128, activation='relu', kernel_initializer='he_normal'),\n",
    "    Dropout(rate=0.5),\n",
    "    Dense(32, activation='relu', kernel_initializer='he_normal'),\n",
    "    BatchNormalization(),\n",
    "    Dense(units=7, activation='softmax', kernel_initializer='glorot_uniform', name='classifier')\n",
    "])\n",
    "\n",
    "# Compile the model\n",
    "model.compile(optimizer=Adam(learning_rate=0.0001), loss='categorical_crossentropy', metrics=['accuracy'])\n",
    "\n",
    "# Define callbacks\n",
    "reduce_lr = ReduceLROnPlateau(monitor='val_loss', factor=0.2, patience=3, min_lr=0.00001)\n",
    "early_stopping = EarlyStopping(patience=5)\n",
    "\n",
    "# Resize images to match model input shape\n",
    "img_size = (224, 224)  # Resize images to 224x224\n",
    "\n",
    "# Assuming you are loading images with a function like this:\n",
    "def load_image(file_path):\n",
    "    if file_path and os.path.exists(file_path):  # Check if the file exists\n",
    "        try:\n",
    "            return np.asarray(Image.open(file_path).resize(img_size)) / 255\n",
    "        except Exception as e:\n",
    "            print(f\"Error loading image {file_path}: {e}\")\n",
    "            return None\n",
    "    else:\n",
    "        print(f\"Image file not found: {file_path}\")\n",
    "        return None\n",
    "\n",
    "# Train the model\n",
    "history = model.fit(\n",
    "    x_train, y_train,\n",
    "    epochs=200,\n",
    "    batch_size=8,\n",
    "    validation_data=(x_test, y_test),\n",
    "    callbacks=[early_stopping, reduce_lr]\n",
    ")\n"
   ]
  },
  {
   "cell_type": "code",
   "execution_count": 1,
   "id": "1844efa9",
   "metadata": {
    "papermill": {
     "duration": 0.022063,
     "end_time": "2024-04-22T19:43:16.395476",
     "exception": false,
     "start_time": "2024-04-22T19:43:16.373413",
     "status": "completed"
    },
    "tags": []
   },
   "outputs": [
    {
     "ename": "NameError",
     "evalue": "name 'model' is not defined",
     "output_type": "error",
     "traceback": [
      "\u001b[1;31m---------------------------------------------------------------------------\u001b[0m",
      "\u001b[1;31mNameError\u001b[0m                                 Traceback (most recent call last)",
      "Cell \u001b[1;32mIn[1], line 1\u001b[0m\n\u001b[1;32m----> 1\u001b[0m \u001b[43mmodel\u001b[49m\u001b[38;5;241m.\u001b[39mcompile(Adam(learning_rate\u001b[38;5;241m=\u001b[39m\u001b[38;5;241m0.0001\u001b[39m), loss\u001b[38;5;241m=\u001b[39m\u001b[38;5;124m'\u001b[39m\u001b[38;5;124mcategorical_crossentropy\u001b[39m\u001b[38;5;124m'\u001b[39m, metrics\u001b[38;5;241m=\u001b[39m[\u001b[38;5;124m'\u001b[39m\u001b[38;5;124maccuracy\u001b[39m\u001b[38;5;124m'\u001b[39m])\n",
      "\u001b[1;31mNameError\u001b[0m: name 'model' is not defined"
     ]
    }
   ],
   "source": [
    "model.compile(Adam(learning_rate=0.0001), loss='categorical_crossentropy', metrics=['accuracy'])\n",
    "\n"
   ]
  },
  {
   "cell_type": "code",
   "execution_count": null,
   "id": "709b6912",
   "metadata": {
    "papermill": {
     "duration": 229.655451,
     "end_time": "2024-04-22T19:47:06.055560",
     "exception": false,
     "start_time": "2024-04-22T19:43:16.400109",
     "status": "completed"
    },
    "tags": []
   },
   "outputs": [],
   "source": [
    "# Define the ReduceLROnPlateau callback to adjust the learning rate during training\n",
    "reduce_lr = ReduceLROnPlateau(monitor='val_loss', factor=0.2, patience=3, min_lr=0.00001)\n",
    "\n",
    "# Define the EarlyStopping callback to stop training if validation loss stops improving\n",
    "early_stopping = EarlyStopping(patience=5)\n",
    "\n",
    "# Train the model\n",
    "history = model.fit(\n",
    "    x_train, y_train,\n",
    "    epochs=200,\n",
    "    batch_size=8,\n",
    "    validation_data=(x_test, y_test),\n",
    "    callbacks=[early_stopping, reduce_lr]\n",
    ")\n"
   ]
  },
  {
   "cell_type": "code",
   "execution_count": null,
   "id": "307f17a2",
   "metadata": {
    "papermill": {
     "duration": 2.204995,
     "end_time": "2024-04-22T19:47:08.605768",
     "exception": false,
     "start_time": "2024-04-22T19:47:06.400773",
     "status": "completed"
    },
    "tags": []
   },
   "outputs": [],
   "source": [
    "# Evaluate model\n",
    "test_loss, test_accuracy = model.evaluate(x_test, y_test)\n",
    "print('Test Accuracy:', test_accuracy)\n",
    "print('Test Loss:', test_loss)\n"
   ]
  },
  {
   "cell_type": "code",
   "execution_count": null,
   "id": "254985ce",
   "metadata": {
    "papermill": {
     "duration": 1.164106,
     "end_time": "2024-04-22T19:47:10.108501",
     "exception": false,
     "start_time": "2024-04-22T19:47:08.944395",
     "status": "completed"
    },
    "tags": []
   },
   "outputs": [],
   "source": [
    "# Plot training history\n",
    "tr_acc = history.history['accuracy']\n",
    "tr_loss = history.history['loss']\n",
    "val_acc = history.history['val_accuracy']\n",
    "val_loss = history.history['val_loss']\n",
    "\n",
    "epochs = range(1, len(tr_acc) + 1)\n",
    "\n",
    "plt.figure(figsize=(14, 5))\n",
    "\n",
    "plt.subplot(1, 2, 1)\n",
    "plt.plot(epochs, tr_loss, 'r', label='Train Loss')\n",
    "plt.plot(epochs, val_loss, 'g', label='Validation Loss')\n",
    "plt.title('Loss')\n",
    "plt.xlabel('Epochs')\n",
    "plt.ylabel('Loss')\n",
    "plt.legend()\n",
    "\n",
    "plt.subplot(1, 2, 2)\n",
    "plt.plot(epochs, tr_acc, 'r', label='Train Accuracy')\n",
    "plt.plot(epochs, val_acc, 'g', label='Validation Accuracy')\n",
    "plt.title('Accuracy')\n",
    "plt.xlabel('Epochs')\n",
    "plt.ylabel('Accuracy')\n",
    "plt.legend()\n",
    "\n",
    "plt.tight_layout()\n",
    "plt.show()"
   ]
  },
  {
   "cell_type": "code",
   "execution_count": null,
   "id": "5215ce1f-6a0c-4f43-83dc-38b972449de5",
   "metadata": {},
   "outputs": [],
   "source": []
  }
 ],
 "metadata": {
  "kaggle": {
   "accelerator": "gpu",
   "dataSources": [
    {
     "datasetId": 54339,
     "sourceId": 104884,
     "sourceType": "datasetVersion"
    }
   ],
   "dockerImageVersionId": 30699,
   "isGpuEnabled": true,
   "isInternetEnabled": true,
   "language": "python",
   "sourceType": "notebook"
  },
  "kernelspec": {
   "display_name": "Python 3 (ipykernel)",
   "language": "python",
   "name": "python3"
  },
  "language_info": {
   "codemirror_mode": {
    "name": "ipython",
    "version": 3
   },
   "file_extension": ".py",
   "mimetype": "text/x-python",
   "name": "python",
   "nbconvert_exporter": "python",
   "pygments_lexer": "ipython3",
   "version": "3.10.0"
  },
  "papermill": {
   "default_parameters": {},
   "duration": 332.413664,
   "end_time": "2024-04-22T19:47:12.994788",
   "environment_variables": {},
   "exception": null,
   "input_path": "__notebook__.ipynb",
   "output_path": "__notebook__.ipynb",
   "parameters": {},
   "start_time": "2024-04-22T19:41:40.581124",
   "version": "2.5.0"
  }
 },
 "nbformat": 4,
 "nbformat_minor": 5
}
